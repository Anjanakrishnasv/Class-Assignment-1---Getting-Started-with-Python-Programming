{
  "nbformat": 4,
  "nbformat_minor": 0,
  "metadata": {
    "colab": {
      "name": "Welcome To Colaboratory",
      "provenance": [],
      "collapsed_sections": [],
      "toc_visible": true,
      "include_colab_link": true
    },
    "kernelspec": {
      "display_name": "Python 3",
      "name": "python3"
    }
  },
  "cells": [
    {
      "cell_type": "markdown",
      "metadata": {
        "id": "view-in-github",
        "colab_type": "text"
      },
      "source": [
        "<a href=\"https://colab.research.google.com/github/Anjanakrishnasv/Class-Assignment-1---Getting-Started-with-Python-Programming/blob/master/Welcome_To_Colaboratory.ipynb\" target=\"_parent\"><img src=\"https://colab.research.google.com/assets/colab-badge.svg\" alt=\"Open In Colab\"/></a>"
      ]
    },
    {
      "cell_type": "code",
      "metadata": {
        "id": "53D4D3FnESOX",
        "colab_type": "code",
        "colab": {}
      },
      "source": [
        ""
      ],
      "execution_count": null,
      "outputs": []
    },
    {
      "cell_type": "code",
      "metadata": {
        "id": "-Imt0zixETZA",
        "colab_type": "code",
        "colab": {
          "base_uri": "https://localhost:8080/",
          "height": 134
        },
        "outputId": "7b5d0e1c-4b0e-49cf-d1ee-995e09c38175"
      },
      "source": [
        "#Program to print name,address,telephone number\n",
        "Nm=input(\"Enter name:\")\n",
        "address=input(\"Enter address:\")\n",
        "teleNo=int(input(\"Enter phone no:\"))\n",
        "print()\n",
        "print(\"Name:\",Nm)\n",
        "print(\"Address:\",address)\n",
        "print(\"Telephone:\",teleNo)\n"
      ],
      "execution_count": 6,
      "outputs": [
        {
          "output_type": "stream",
          "text": [
            "Enter name:Anjanakrishna\n",
            "Enter address:Blue Heaven,New Hamspire\n",
            "Enter phone no:9688532144\n",
            "\n",
            "Name: Anjanakrishna\n",
            "Address: Blue Heaven,New Hamspire\n",
            "Telephone: 9688532144\n"
          ],
          "name": "stdout"
        }
      ]
    },
    {
      "cell_type": "code",
      "metadata": {
        "id": "kQwuC1jDMPm9",
        "colab_type": "code",
        "colab": {
          "base_uri": "https://localhost:8080/",
          "height": 34
        },
        "outputId": "e843e837-af72-4558-e968-09c9bc374a64"
      },
      "source": [
        "print(\"Your name is\",name)\n"
      ],
      "execution_count": 9,
      "outputs": [
        {
          "output_type": "stream",
          "text": [
            "Your name is Anjanakrishna\n"
          ],
          "name": "stdout"
        }
      ]
    },
    {
      "cell_type": "code",
      "metadata": {
        "id": "nQWCiiWhRKnM",
        "colab_type": "code",
        "colab": {
          "base_uri": "https://localhost:8080/",
          "height": 67
        },
        "outputId": "614ec9e5-9405-41cd-c2ca-80a5ccdb07f5"
      },
      "source": [
        "width=int(input(\"Enter the width:\"))\n",
        "height=int(input(\"Enter the height:\"))\n",
        "area=width*height\n",
        "print(\"The area is\",area,\"square units\")"
      ],
      "execution_count": 10,
      "outputs": [
        {
          "output_type": "stream",
          "text": [
            "Enter the width:10\n",
            "Enter the height:15\n",
            "The area is 150 square units\n"
          ],
          "name": "stdout"
        }
      ]
    },
    {
      "cell_type": "code",
      "metadata": {
        "id": "Hp_nMs-aSPvH",
        "colab_type": "code",
        "colab": {
          "base_uri": "https://localhost:8080/",
          "height": 67
        },
        "outputId": "d40c02fb-7eb9-4e2c-c66a-2e6c113543e9"
      },
      "source": [
        "base=float(input(\"Enter the base:\"))\n",
        "ht=float(input(\"Enter the height:\" ))\n",
        "triangulararea= 0.5* base* ht \n",
        "print(\"Area of triangle:\",triangulararea)"
      ],
      "execution_count": 15,
      "outputs": [
        {
          "output_type": "stream",
          "text": [
            "Enter the base:25\n",
            "Enter the height:5\n",
            "Area of triangle: 62.5\n"
          ],
          "name": "stdout"
        }
      ]
    },
    {
      "cell_type": "code",
      "metadata": {
        "id": "uOd7Sq26Utlk",
        "colab_type": "code",
        "colab": {
          "base_uri": "https://localhost:8080/",
          "height": 50
        },
        "outputId": "bd0d9857-7621-4b81-b773-d99d71c0077c"
      },
      "source": [
        "radius=float(input(\"Enter the radius:\"))\n",
        "circulararea=3.14*radius**2\n",
        "print(\"Area of circle:\",circulararea)"
      ],
      "execution_count": 16,
      "outputs": [
        {
          "output_type": "stream",
          "text": [
            "Enter the radius:5.0\n",
            "Area of circle: 78.5\n"
          ],
          "name": "stdout"
        }
      ]
    },
    {
      "cell_type": "code",
      "metadata": {
        "id": "d9W8u-skVWtZ",
        "colab_type": "code",
        "colab": {
          "base_uri": "https://localhost:8080/",
          "height": 67
        },
        "outputId": "30194ec7-e59f-4441-fe16-2bfbf88bdb26"
      },
      "source": [
        "username=input(\"Enter your name:\")\n",
        "age=input(\"Enter the age:\")\n",
        "print(username,\"is\",age,\"years old.\")\n",
        "      "
      ],
      "execution_count": 18,
      "outputs": [
        {
          "output_type": "stream",
          "text": [
            "Enter your name:Jacob\n",
            "Enter the age:20\n",
            "Jacob is 20 years old.\n"
          ],
          "name": "stdout"
        }
      ]
    },
    {
      "cell_type": "code",
      "metadata": {
        "id": "IGG9f1vsWsl8",
        "colab_type": "code",
        "colab": {
          "base_uri": "https://localhost:8080/",
          "height": 52
        },
        "outputId": "f1298002-7147-42b3-b54b-eed0c54615bc"
      },
      "source": [
        "input()"
      ],
      "execution_count": 19,
      "outputs": [
        {
          "output_type": "stream",
          "text": [
            "100\n"
          ],
          "name": "stdout"
        },
        {
          "output_type": "execute_result",
          "data": {
            "application/vnd.google.colaboratory.intrinsic+json": {
              "type": "string"
            },
            "text/plain": [
              "'100'"
            ]
          },
          "metadata": {
            "tags": []
          },
          "execution_count": 19
        }
      ]
    },
    {
      "cell_type": "code",
      "metadata": {
        "id": "yQwAYT5_Wzr5",
        "colab_type": "code",
        "colab": {
          "base_uri": "https://localhost:8080/",
          "height": 52
        },
        "outputId": "7206618e-77b1-4306-90de-8e01beb02c24"
      },
      "source": [
        "input()"
      ],
      "execution_count": 20,
      "outputs": [
        {
          "output_type": "stream",
          "text": [
            "Aspire\n"
          ],
          "name": "stdout"
        },
        {
          "output_type": "execute_result",
          "data": {
            "application/vnd.google.colaboratory.intrinsic+json": {
              "type": "string"
            },
            "text/plain": [
              "'Aspire'"
            ]
          },
          "metadata": {
            "tags": []
          },
          "execution_count": 20
        }
      ]
    },
    {
      "cell_type": "code",
      "metadata": {
        "id": "pz1MRDvxWXuF",
        "colab_type": "code",
        "colab": {}
      },
      "source": [
        ""
      ],
      "execution_count": null,
      "outputs": []
    }
  ]
}