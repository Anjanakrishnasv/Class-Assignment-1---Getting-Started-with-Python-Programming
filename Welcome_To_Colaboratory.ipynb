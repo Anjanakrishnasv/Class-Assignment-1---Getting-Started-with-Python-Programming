{
  "nbformat": 4,
  "nbformat_minor": 0,
  "metadata": {
    "colab": {
      "name": "Welcome To Colaboratory",
      "provenance": [],
      "collapsed_sections": [],
      "toc_visible": true,
      "include_colab_link": true
    },
    "kernelspec": {
      "display_name": "Python 3",
      "name": "python3"
    }
  },
  "cells": [
    {
      "cell_type": "markdown",
      "metadata": {
        "id": "view-in-github",
        "colab_type": "text"
      },
      "source": [
        "<a href=\"https://colab.research.google.com/github/Anjanakrishnasv/Class-Assignment-1---Getting-Started-with-Python-Programming/blob/master/Welcome_To_Colaboratory.ipynb\" target=\"_parent\"><img src=\"https://colab.research.google.com/assets/colab-badge.svg\" alt=\"Open In Colab\"/></a>"
      ]
    },
    {
      "cell_type": "code",
      "metadata": {
        "id": "2RCaWFRyZxZi",
        "colab_type": "code",
        "colab": {
          "base_uri": "https://localhost:8080/",
          "height": 67
        },
        "outputId": "cc86cdb8-a069-4a29-f94e-2a6cca5b2a0d"
      },
      "source": [
        "#python code to check whether two strings are equal or not.\n",
        "a=input(\"enter a string:\")\n",
        "b=input(\"enter a string:\")\n",
        "if a==b:\n",
        "  print(\"strings are equal\")\n",
        "elif a!=b:\n",
        "  print(\"strings are not equal\")"
      ],
      "execution_count": 21,
      "outputs": [
        {
          "output_type": "stream",
          "text": [
            "enter a string:apple\n",
            "enter a string:apple\n",
            "strings are equal\n"
          ],
          "name": "stdout"
        }
      ]
    },
    {
      "cell_type": "code",
      "metadata": {
        "id": "TWEMr8tta-yS",
        "colab_type": "code",
        "colab": {
          "base_uri": "https://localhost:8080/",
          "height": 67
        },
        "outputId": "4e7cec32-2641-42e3-d9f2-6799a50a10af"
      },
      "source": [
        "#pythoncode to find the sum of two numbers\n",
        "a=int(input(\"enter number:\"))\n",
        "b=int(input(\"enter number:\"))\n",
        "sum=a+b\n",
        "print(\"sum=\",sum)"
      ],
      "execution_count": 22,
      "outputs": [
        {
          "output_type": "stream",
          "text": [
            "enter number:10\n",
            "enter number:20\n",
            "sum= 30\n"
          ],
          "name": "stdout"
        }
      ]
    },
    {
      "cell_type": "code",
      "metadata": {
        "id": "9oWSbJlubaYE",
        "colab_type": "code",
        "colab": {
          "base_uri": "https://localhost:8080/",
          "height": 50
        },
        "outputId": "79bdebfd-0960-46d4-ddf6-a32cb0572706"
      },
      "source": [
        "#python code to find the squareroot of a number\n",
        "a=int(input(\"enter the number:\"))\n",
        "sqrt=a**0.5\n",
        "print(\"squareroot is equal to\",sqrt)"
      ],
      "execution_count": 25,
      "outputs": [
        {
          "output_type": "stream",
          "text": [
            "enter the number:25\n",
            "squareroot is equal to 5.0\n"
          ],
          "name": "stdout"
        }
      ]
    },
    {
      "cell_type": "code",
      "metadata": {
        "id": "JhkGvjxwcbmM",
        "colab_type": "code",
        "colab": {
          "base_uri": "https://localhost:8080/",
          "height": 67
        },
        "outputId": "a71e2cf4-68ad-4de0-ebe4-fb30191daf17"
      },
      "source": [
        "#for a right triangle\n",
        "b=float(input(\"enter the base:\"))\n",
        "h=float(input(\"enter the height:\"))\n",
        "area=0.5*b*h\n",
        "print(\"Area is\",area)\n",
        "  \n"
      ],
      "execution_count": 26,
      "outputs": [
        {
          "output_type": "stream",
          "text": [
            "enter the base:5\n",
            "enter the height:4\n",
            "Area is 10.0\n"
          ],
          "name": "stdout"
        }
      ]
    },
    {
      "cell_type": "code",
      "metadata": {
        "id": "yPfQ_vAAeKwy",
        "colab_type": "code",
        "colab": {
          "base_uri": "https://localhost:8080/",
          "height": 50
        },
        "outputId": "3326621e-e418-4e48-ea84-be44b6d4359d"
      },
      "source": [
        "#pythoncode to convert celsius to fahrenheit\n",
        "celsius=float(input(\"enter temperature in celsius:\"))\n",
        "fahrenheit=(celsius*(9.0/5.0))+32\n",
        "print(\"temperature in fahrenheit is\",fahrenheit)"
      ],
      "execution_count": 27,
      "outputs": [
        {
          "output_type": "stream",
          "text": [
            "enter temperature in celsius:32\n",
            "temperature in fahrenheit is 89.6\n"
          ],
          "name": "stdout"
        }
      ]
    },
    {
      "cell_type": "code",
      "metadata": {
        "id": "U8vYTEXifzXX",
        "colab_type": "code",
        "colab": {
          "base_uri": "https://localhost:8080/",
          "height": 50
        },
        "outputId": "a737d38c-bfc2-4bb9-f8bf-5f20ca625cb4"
      },
      "source": [
        "#pythoncode to check whether a number is positive,negative or zero\n",
        "a=int(input(\"Enter the no:\"))\n",
        "if a>0:\n",
        "  print(\"POSITIVE NUMBER\")\n",
        "elif a==0:\n",
        "  print(\"ZERO\")\n",
        "else:\n",
        "  print(\"NEGATIVE NUMBER\")"
      ],
      "execution_count": 28,
      "outputs": [
        {
          "output_type": "stream",
          "text": [
            "Enter the no:7\n",
            "POSITIVE NUMBER\n"
          ],
          "name": "stdout"
        }
      ]
    },
    {
      "cell_type": "code",
      "metadata": {
        "id": "2dTVEYwyhBgZ",
        "colab_type": "code",
        "colab": {
          "base_uri": "https://localhost:8080/",
          "height": 84
        },
        "outputId": "7d8605d0-50b3-417e-a2af-504a8c52cd6e"
      },
      "source": [
        "#pythoncode to check the largest number among three numbers\n",
        "n1=int(input(\"enter the first number:\"))\n",
        "n2=int(input(\"enter the second number:\"))\n",
        "n3=int(input(\"enter the third number:\"))\n",
        "if n1>n2 and n1>n3:\n",
        "  print(n1,\"is largest\")\n",
        "elif n2>n1 and n2>n3:\n",
        "  print(n2,\"is largest\")\n",
        "else:\n",
        "  print(n3,\"is largest\")"
      ],
      "execution_count": 29,
      "outputs": [
        {
          "output_type": "stream",
          "text": [
            "enter the first number:25\n",
            "enter the second number:20\n",
            "enter the third number:36\n",
            "36 is largest\n"
          ],
          "name": "stdout"
        }
      ]
    }
  ]
}