{
  "nbformat": 4,
  "nbformat_minor": 0,
  "metadata": {
    "colab": {
      "name": "Untitled1.ipynb",
      "provenance": [],
      "collapsed_sections": [],
      "authorship_tag": "ABX9TyPe7RAj/lD1Z5MjbYgEwri5",
      "include_colab_link": true
    },
    "kernelspec": {
      "name": "python3",
      "display_name": "Python 3"
    }
  },
  "cells": [
    {
      "cell_type": "markdown",
      "metadata": {
        "id": "view-in-github",
        "colab_type": "text"
      },
      "source": [
        "<a href=\"https://colab.research.google.com/github/Anjanakrishnasv/Class-Assignment-1---Getting-Started-with-Python-Programming/blob/master/Untitled1.ipynb\" target=\"_parent\"><img src=\"https://colab.research.google.com/assets/colab-badge.svg\" alt=\"Open In Colab\"/></a>"
      ]
    },
    {
      "cell_type": "code",
      "metadata": {
        "id": "Uo7jpVUV-mbV",
        "outputId": "a6ed978c-8f7d-4021-bcb4-c3bb55e80128",
        "colab": {
          "base_uri": "https://localhost:8080/",
          "height": 34
        }
      },
      "source": [
        "#python program to get the largest number from list\n",
        "list=[1,2,3,4,5]\n",
        "large=list[0]\n",
        "for i in list:\n",
        "  if i >large:\n",
        "    large = i\n",
        "print(large)"
      ],
      "execution_count": 3,
      "outputs": [
        {
          "output_type": "stream",
          "text": [
            "5\n"
          ],
          "name": "stdout"
        }
      ]
    },
    {
      "cell_type": "code",
      "metadata": {
        "id": "O71JrTx9__p_",
        "outputId": "eefec101-078a-48dd-b8bd-f1f61d0fd9ff",
        "colab": {
          "base_uri": "https://localhost:8080/",
          "height": 67
        }
      },
      "source": [
        "#program to search an element in a list\n",
        "list=[7,3,8,9,0]\n",
        "print(list)\n",
        "k=int(input(\"enter the number to search:\"))\n",
        "for i in list:\n",
        "  if i==k:\n",
        "    print(\"element found\")\n",
        "    break\n",
        "else :\n",
        "  print(\"not found\")\n",
        "    "
      ],
      "execution_count": 4,
      "outputs": [
        {
          "output_type": "stream",
          "text": [
            "[7, 3, 8, 9, 0]\n",
            "enter the number to search:3\n",
            "element found\n"
          ],
          "name": "stdout"
        }
      ]
    },
    {
      "cell_type": "code",
      "metadata": {
        "id": "-rPlo_gpA-cd",
        "outputId": "950cf00d-c965-49a0-9be6-69526e3501c5",
        "colab": {
          "base_uri": "https://localhost:8080/",
          "height": 34
        }
      },
      "source": [
        "#program to sum all the items in list\n",
        "list=[1,0,2,5,7]\n",
        "sum=0\n",
        "for i in list:\n",
        "  sum=sum+i\n",
        "print(\"sum is \",sum)"
      ],
      "execution_count": 5,
      "outputs": [
        {
          "output_type": "stream",
          "text": [
            "sum is  15\n"
          ],
          "name": "stdout"
        }
      ]
    },
    {
      "cell_type": "code",
      "metadata": {
        "id": "3IL8FLkcBmfc",
        "outputId": "de0ec5c2-a356-4ee5-f7e9-e39cf68ad793",
        "colab": {
          "base_uri": "https://localhost:8080/",
          "height": 50
        }
      },
      "source": [
        "#program to remove duplicates from a list\n",
        "list=[1,1,2,34,5,5,6]\n",
        "print(list)\n",
        "newlist=[]\n",
        "for i in list:\n",
        "  if i not in newlist:\n",
        "    newlist.append(i)\n",
        "print(newlist)"
      ],
      "execution_count": 11,
      "outputs": [
        {
          "output_type": "stream",
          "text": [
            "[1, 1, 2, 34, 5, 5, 6]\n",
            "[1, 2, 34, 5, 6]\n"
          ],
          "name": "stdout"
        }
      ]
    },
    {
      "cell_type": "code",
      "metadata": {
        "id": "9paxYrnOEwGC",
        "outputId": "701581a2-e309-47b3-fdba-fb66314ec329",
        "colab": {
          "base_uri": "https://localhost:8080/",
          "height": 50
        }
      },
      "source": [
        "#program that takes two lists and returns true if they have atleast one member in common\n",
        "def common(list1,list2):\n",
        "  for i in list1:\n",
        "    for j in list2:\n",
        "      if i==j:\n",
        "        return True\n",
        "      \n",
        "print(common([1,2,3],[3,4,5])) \n",
        "print(common([3,4],[5,6]))       "
      ],
      "execution_count": 19,
      "outputs": [
        {
          "output_type": "stream",
          "text": [
            "True\n",
            "None\n"
          ],
          "name": "stdout"
        }
      ]
    },
    {
      "cell_type": "code",
      "metadata": {
        "id": "q7WNZbQSGcGL",
        "outputId": "3c0fa496-ca48-417a-afc0-abc503d83829",
        "colab": {
          "base_uri": "https://localhost:8080/",
          "height": 34
        }
      },
      "source": [
        "#program to append a list to a second list\n",
        "list1=[1,2,3]\n",
        "list2=['a','b','c']\n",
        "list=list1+list2\n",
        "print(list)"
      ],
      "execution_count": 18,
      "outputs": [
        {
          "output_type": "stream",
          "text": [
            "[1, 2, 3, 'a', 'b', 'c']\n"
          ],
          "name": "stdout"
        }
      ]
    },
    {
      "cell_type": "code",
      "metadata": {
        "id": "EC8IskQ-HW3Y",
        "outputId": "e280054d-becf-40e9-e1e8-75623ec32cc9",
        "colab": {
          "base_uri": "https://localhost:8080/",
          "height": 50
        }
      },
      "source": [
        "#program to  check if a number is composite or not\n",
        "n=int(input(\"enter a number:\"))\n",
        "fact=0\n",
        "for i in range(1,n):\n",
        "  if n%i==0:\n",
        "    fact=i\n",
        "if fact>1:\n",
        "  print(\"composite number\")\n",
        "elif n==1:\n",
        "  print(\"neither composite nor prime\")\n",
        "else:\n",
        "  print(\"prime number\")"
      ],
      "execution_count": 24,
      "outputs": [
        {
          "output_type": "stream",
          "text": [
            "enter a number:7\n",
            "prime number\n"
          ],
          "name": "stdout"
        }
      ]
    },
    {
      "cell_type": "code",
      "metadata": {
        "id": "fhkxHr5dLGFB",
        "outputId": "0e4e81d9-61c5-4004-f2f8-3b4ec4b162f2",
        "colab": {
          "base_uri": "https://localhost:8080/",
          "height": 34
        }
      },
      "source": [
        "#program to add two matrix using list\n",
        "A=[[1,2,3], [4,5,6], [7,8,9]]\n",
        "B=[[10,11,12], [1,2,3], [2,3,5]]\n",
        "RESULT=[[0,0,0], [0,0,0], [0,0,0]]\n",
        "for i in range(len(A)):\n",
        "  for j in range(len(A[0])):\n",
        "    RESULT[i][j]=A[i][j]+B[i][j]\n",
        "print(RESULT)\n"
      ],
      "execution_count": 25,
      "outputs": [
        {
          "output_type": "stream",
          "text": [
            "[[11, 13, 15], [5, 7, 9], [9, 11, 14]]\n"
          ],
          "name": "stdout"
        }
      ]
    },
    {
      "cell_type": "code",
      "metadata": {
        "id": "QNTrfLFdOm1E",
        "outputId": "cbb78685-b4b0-4bf5-d4bf-a07ca9e03cf0",
        "colab": {
          "base_uri": "https://localhost:8080/",
          "height": 50
        }
      },
      "source": [
        "#program to check if a string is a palindrome or not\n",
        "def palindrome(str):\n",
        "  rev=''.join(reversed(str))\n",
        "  if str==rev:\n",
        "    return True\n",
        "  return False\n",
        "str=input(\"enter a word:\")\n",
        "word=palindrome(str)\n",
        "if (word):\n",
        "  print(\"palindrome\")\n",
        "else:\n",
        "  print(\"not palindrome\")    "
      ],
      "execution_count": 28,
      "outputs": [
        {
          "output_type": "stream",
          "text": [
            "enter a word:wow\n",
            "palindrome\n"
          ],
          "name": "stdout"
        }
      ]
    },
    {
      "cell_type": "code",
      "metadata": {
        "id": "yrpr_zIAQve7",
        "outputId": "8029ff6f-43f7-4f39-bbd4-a54b52c553e1",
        "colab": {
          "base_uri": "https://localhost:8080/",
          "height": 235
        }
      },
      "source": [
        "#program to print multipication table\n",
        "num=int(input(\"enter a number:\"))\n",
        "for i in range(1,13):\n",
        "  print(num,\"x\",i,\"=\",num*i)"
      ],
      "execution_count": 30,
      "outputs": [
        {
          "output_type": "stream",
          "text": [
            "enter a number:2\n",
            "2 x 1 = 2\n",
            "2 x 2 = 4\n",
            "2 x 3 = 6\n",
            "2 x 4 = 8\n",
            "2 x 5 = 10\n",
            "2 x 6 = 12\n",
            "2 x 7 = 14\n",
            "2 x 8 = 16\n",
            "2 x 9 = 18\n",
            "2 x 10 = 20\n",
            "2 x 11 = 22\n",
            "2 x 12 = 24\n"
          ],
          "name": "stdout"
        }
      ]
    }
  ]
}